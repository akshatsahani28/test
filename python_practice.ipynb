{
 "cells": [
  {
   "cell_type": "code",
   "execution_count": 7,
   "metadata": {},
   "outputs": [
    {
     "name": "stdout",
     "output_type": "stream",
     "text": [
      "hello world\n"
     ]
    }
   ],
   "source": [
    "print(\"hello world\")"
   ]
  },
  {
   "cell_type": "code",
   "execution_count": 8,
   "metadata": {},
   "outputs": [
    {
     "name": "stdout",
     "output_type": "stream",
     "text": [
      "<class 'int'> <class 'float'>\n"
     ]
    }
   ],
   "source": [
    "a = 10\n",
    "b = 7.91\n",
    "\n",
    "print(type(a), type(b))"
   ]
  },
  {
   "cell_type": "code",
   "execution_count": 12,
   "metadata": {},
   "outputs": [
    {
     "name": "stdout",
     "output_type": "stream",
     "text": [
      "4.9\n"
     ]
    }
   ],
   "source": [
    "val = float(input(\"enter number: \"))\n",
    "val2 = float(input(\"enter another number: \"))\n",
    "\n",
    "print(val%val2)"
   ]
  },
  {
   "cell_type": "code",
   "execution_count": 21,
   "metadata": {},
   "outputs": [
    {
     "name": "stdout",
     "output_type": "stream",
     "text": [
      "tahska"
     ]
    }
   ],
   "source": [
    "str = input(\"Enter a string: \")\n",
    "for i in range(len(str)-1, -1, -1):\n",
    "    print(str[i], end=\"\")\n",
    "     "
   ]
  },
  {
   "cell_type": "code",
   "execution_count": 24,
   "metadata": {},
   "outputs": [
    {
     "name": "stdout",
     "output_type": "stream",
     "text": [
      "AKSHAT\n"
     ]
    }
   ],
   "source": [
    "m = \"akshat\"\n",
    "print(m.upper())"
   ]
  },
  {
   "cell_type": "code",
   "execution_count": 25,
   "metadata": {},
   "outputs": [
    {
     "name": "stdout",
     "output_type": "stream",
     "text": [
      "2\n"
     ]
    }
   ],
   "source": [
    "cnt = 0\n",
    "str = \"akshat\"\n",
    "for i in str:\n",
    "    if(i == 'a'):\n",
    "        cnt = cnt + 1\n",
    "    \n",
    "print(cnt)\n",
    "        \n",
    "        "
   ]
  },
  {
   "cell_type": "code",
   "execution_count": 37,
   "metadata": {},
   "outputs": [
    {
     "name": "stdout",
     "output_type": "stream",
     "text": [
      "[3, 4, 5, 2]\n"
     ]
    }
   ],
   "source": [
    "numbers = [3, 4, 5]\n",
    "f = int(input(\"Enter another number\"))\n",
    "numbers.append(f)\n",
    "print(numbers)"
   ]
  },
  {
   "cell_type": "code",
   "execution_count": 38,
   "metadata": {},
   "outputs": [
    {
     "name": "stdout",
     "output_type": "stream",
     "text": [
      "[3, 5, 2]\n",
      "5\n",
      "2\n"
     ]
    }
   ],
   "source": [
    "numbers.remove(4)\n",
    "print(numbers)\n",
    "\n",
    "print(max(numbers))\n",
    "print(min(numbers))"
   ]
  },
  {
   "cell_type": "code",
   "execution_count": 41,
   "metadata": {},
   "outputs": [
    {
     "name": "stdout",
     "output_type": "stream",
     "text": [
      "[2, 3, 5]\n"
     ]
    }
   ],
   "source": [
    "print(sorted(numbers))"
   ]
  },
  {
   "cell_type": "code",
   "execution_count": 50,
   "metadata": {},
   "outputs": [
    {
     "name": "stdout",
     "output_type": "stream",
     "text": [
      "{1: 'A', 2: 'B'}\n"
     ]
    }
   ],
   "source": [
    "map = {1: 'A', \n",
    "       2: 'B'}\n",
    "\n",
    "print(map)\n"
   ]
  },
  {
   "cell_type": "code",
   "execution_count": 51,
   "metadata": {},
   "outputs": [
    {
     "name": "stdout",
     "output_type": "stream",
     "text": [
      "{1: 'A', 2: 'B', 5: 'C'}\n"
     ]
    }
   ],
   "source": [
    "map.update({5: 'C'})\n",
    "print(map)"
   ]
  },
  {
   "cell_type": "code",
   "execution_count": 52,
   "metadata": {},
   "outputs": [
    {
     "name": "stdout",
     "output_type": "stream",
     "text": [
      "{1: 'A', 2: 'B', 5: 'C', 3: 'C'}\n"
     ]
    }
   ],
   "source": [
    "map.update({3: 'C'})\n",
    "print(map)"
   ]
  },
  {
   "cell_type": "code",
   "execution_count": 67,
   "metadata": {},
   "outputs": [
    {
     "name": "stdout",
     "output_type": "stream",
     "text": [
      "3\n",
      "87.0\n"
     ]
    }
   ],
   "source": [
    "map2 = {1: 89,\n",
    "        2: 84,\n",
    "        3: 88}\n",
    "\n",
    "tot = 0\n",
    "for i in map2.values():\n",
    "    tot += i\n",
    "    \n",
    "print(len(map2))\n",
    "print(tot/len(map2))"
   ]
  },
  {
   "cell_type": "code",
   "execution_count": 69,
   "metadata": {},
   "outputs": [
    {
     "name": "stdout",
     "output_type": "stream",
     "text": [
      "[1, 4, 9, 16, 25, 36, 49, 64, 81, 100]\n"
     ]
    }
   ],
   "source": [
    "list = [x**2 for x in range(1, 11)]\n",
    "print(list)"
   ]
  },
  {
   "cell_type": "code",
   "execution_count": 70,
   "metadata": {},
   "outputs": [
    {
     "name": "stdout",
     "output_type": "stream",
     "text": [
      "120\n"
     ]
    }
   ],
   "source": [
    "def recur(n):\n",
    "    if(n == 1):\n",
    "        return 1\n",
    "    return n * recur(n-1)\n",
    "\n",
    "print(recur(5))"
   ]
  },
  {
   "cell_type": "code",
   "execution_count": 72,
   "metadata": {},
   "outputs": [
    {
     "name": "stdout",
     "output_type": "stream",
     "text": [
      "hello\n",
      "123\n",
      "hi\n"
     ]
    }
   ],
   "source": [
    "file = open(\"acess.txt\")\n",
    "content = file.read()\n",
    "print(content)"
   ]
  },
  {
   "cell_type": "code",
   "execution_count": 73,
   "metadata": {},
   "outputs": [
    {
     "name": "stdout",
     "output_type": "stream",
     "text": [
      "Area:  48\n",
      "Perimeter:  28\n"
     ]
    }
   ],
   "source": [
    "class Rectangle:\n",
    "    def __init__(self, length, breadth):\n",
    "        self.length = length\n",
    "        self.breadth = breadth\n",
    "        \n",
    "    def  area(self):\n",
    "        return self.length * self.breadth\n",
    "    \n",
    "    def peri(self):\n",
    "        return 2 * (self.length + self.breadth)\n",
    "    \n",
    "rect = Rectangle(6, 8)\n",
    "print(\"Area: \", rect.area())\n",
    "print(\"Perimeter: \", rect.peri())        "
   ]
  },
  {
   "cell_type": "code",
   "execution_count": 81,
   "metadata": {},
   "outputs": [
    {
     "name": "stdout",
     "output_type": "stream",
     "text": [
      "moo\n"
     ]
    }
   ],
   "source": [
    "class Animal:\n",
    "    def __init__(self, s):\n",
    "        self.s = s\n",
    "\n",
    "    def sound(self):\n",
    "        if self.s == \"cow\":\n",
    "            return \"moo\"\n",
    "        return \"unknown sound\"\n",
    "\n",
    "class Cow(Animal):\n",
    "    def __init__(self):\n",
    "        super().__init__(\"cow\") \n",
    "    \n",
    "    def sound(self):\n",
    "        return super().sound()  \n",
    "c = Cow()\n",
    "print(c.sound())  \n"
   ]
  },
  {
   "cell_type": "code",
   "execution_count": 4,
   "metadata": {},
   "outputs": [
    {
     "name": "stdout",
     "output_type": "stream",
     "text": [
      "True\n"
     ]
    }
   ],
   "source": [
    "#Palindrome\n",
    "\n",
    "str = \"madam\"\n",
    "def isPaline(str):\n",
    "    for i in range(len(str)//2):\n",
    "        if str[i] != str[len(str)-i-1]:\n",
    "            return False\n",
    "     \n",
    "    return True   \n",
    "\n",
    "print(isPaline(\"MADAM\"))\n",
    "    \n"
   ]
  },
  {
   "cell_type": "code",
   "execution_count": 15,
   "metadata": {},
   "outputs": [
    {
     "name": "stdout",
     "output_type": "stream",
     "text": [
      "Prime\n"
     ]
    }
   ],
   "source": [
    "cnt = 0\n",
    "num = int(input(\"Enter a number\"))\n",
    "if(num == 1):\n",
    "    print(\"1 is neither prime nor composite\")\n",
    "    \n",
    "elif(num == 2):\n",
    "    print(\"Prime\")\n",
    "\n",
    "else: \n",
    "    for i in range(2, int(num/2)):\n",
    "        if num%i == 0:\n",
    "            cnt = cnt + 1\n",
    "        \n",
    "    if(cnt == 0):\n",
    "        print(\"Prime\")\n",
    "    \n",
    "    else:\n",
    "        print(\"Not Prime\")"
   ]
  },
  {
   "cell_type": "code",
   "execution_count": 20,
   "metadata": {},
   "outputs": [
    {
     "name": "stdout",
     "output_type": "stream",
     "text": [
      "['ind', 'usa', 'abc', 'str']\n"
     ]
    }
   ],
   "source": [
    "list = [\"str\", \"abc\", \"usa\", \"ind\"]\n",
    "list.reverse()\n",
    "print(list)"
   ]
  },
  {
   "cell_type": "code",
   "execution_count": null,
   "metadata": {},
   "outputs": [],
   "source": []
  }
 ],
 "metadata": {
  "kernelspec": {
   "display_name": "Python 3",
   "language": "python",
   "name": "python3"
  },
  "language_info": {
   "codemirror_mode": {
    "name": "ipython",
    "version": 3
   },
   "file_extension": ".py",
   "mimetype": "text/x-python",
   "name": "python",
   "nbconvert_exporter": "python",
   "pygments_lexer": "ipython3",
   "version": "3.12.5"
  }
 },
 "nbformat": 4,
 "nbformat_minor": 2
}
